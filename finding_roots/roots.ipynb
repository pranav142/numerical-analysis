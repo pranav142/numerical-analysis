{
 "cells": [
  {
   "cell_type": "code",
   "execution_count": 3,
   "metadata": {},
   "outputs": [],
   "source": [
    "import math\n",
    "import time"
   ]
  },
  {
   "cell_type": "markdown",
   "metadata": {},
   "source": [
    "## 1. Bisection Method\n",
    "\n",
    "### Criteria:\n",
    "\n",
    "1. Function must be continuous\n",
    "2. Function must cross the x-axis cannot simply touch it\n",
    "3. initial guesses a and b must enclose the root\n",
    "\n",
    "### Description:\n",
    "\n",
    "Newton's method is a technique used to find the roots of a function, f(x) = 0. This method is iterative, takes the longest of the three methods to converge, and requires a intial guess of two values that enclose the zero, but has the benefit of always converging to the right solution. The technique goes as follows:\n",
    "\n",
    "1. Choose two values [a, b] with opposing signs\n",
    "2. Calculate the midpoint, c, of a,b using the equation below\n",
    "     c = (a + b) / 2\n",
    "3. if f(a) and f(c) are the same sign then choose [b, c] as your next values, otherwise if f(a) and f(c) different signs then choose [a, c] as your next guess\n",
    "4. Repeat this loop until f(c) = 0\n",
    "\n",
    "Now let us use this to approximate the cube root of 3"
   ]
  },
  {
   "cell_type": "code",
   "execution_count": 1,
   "metadata": {},
   "outputs": [
    {
     "name": "stdout",
     "output_type": "stream",
     "text": [
      "actual value of cube root of 3: 2.46621207433047, calculated value: 2.4662120743304703\n"
     ]
    }
   ],
   "source": [
    "# x^2 - 2 has a zero at sqrt(2)\n",
    "def f(x: float) -> float:\n",
    "    return pow(x, 3) - 15\n",
    "\n",
    "a, b = -10, 10\n",
    "\n",
    "def bisection(a: float, b: float, epsilon: float, func) -> float:\n",
    "    if f(a) * f(b) >= 0:\n",
    "        print(\"failed to choose correct closing params\")\n",
    "        return float(\"inf\")\n",
    "\n",
    "    c = a\n",
    "    while((b - a) >= epsilon):\n",
    "        c = (a + b)/2\n",
    "\n",
    "        if func(c) == 0:\n",
    "            return c\n",
    "            \n",
    "        elif (func(c) * func(a) < 0):\n",
    "            b = c\n",
    "        else:\n",
    "            a = c\n",
    "    \n",
    "    return c\n",
    "\n",
    "c = bisection(a, b, 1e-15, f)\n",
    "print(f\"actual value of cube root of 3: {pow(15, 1/3)}, calculated value: {c}\")"
   ]
  },
  {
   "cell_type": "markdown",
   "metadata": {},
   "source": [
    "## 2. Newton's Method\n",
    "\n",
    "### Criteria:\n",
    "1. Function must be differentiable\n",
    "2. The function's derivative should not be zero at the root\n",
    "3. Initial guess needs to be close to the zero, otherwise it may take many iterations to converge or may end up diverging\n",
    "\n",
    "### Description:\n",
    "Newton's method unlike the first one can converge the quickest, however it requires the function to be differentiable. The method works calculating the tangent line at the inital guess x and then finding out where this tangent line intersects with the x axis. This value then becomes our new x value and we repeat this process. This process works because the derivative points us towards the local optimum and looking at the zero's of the tangent line will take us to the zero. The technique is described in detail below\n",
    "\n",
    "1. Calculate the derivative of f(x)\n",
    "2. Make a initial guess for Xo\n",
    "3. Calculate your new guess X using the equation below:\n",
    "    Xnew = Xold  - f(Xold) / f'(Xold)\n",
    "\n",
    "### Example\n",
    "Now we will estimate the cube root of 3 using this method"
   ]
  },
  {
   "cell_type": "code",
   "execution_count": 2,
   "metadata": {},
   "outputs": [
    {
     "data": {
      "text/plain": [
       "2.4662120743304703"
      ]
     },
     "execution_count": 2,
     "metadata": {},
     "output_type": "execute_result"
    }
   ],
   "source": [
    "def df_dx(x: float) -> float:\n",
    "    return 3 * pow(x, 2)\n",
    "\n",
    "def newtons_method(initial_guess: float, epsilon: float, func, derivative_func) -> float:\n",
    "    old_x = 0\n",
    "    new_x = initial_guess\n",
    "    while (abs(new_x - old_x) > epsilon):\n",
    "        old_x = new_x\n",
    "        new_x = old_x - func(old_x) / derivative_func(old_x)\n",
    "    return new_x\n",
    "\n",
    "newtons_method(3, 1e-15, f, df_dx)"
   ]
  },
  {
   "cell_type": "markdown",
   "metadata": {},
   "source": [
    "Now let us compare how long it takes for us to estimate the root using newtons method versus the bisection method"
   ]
  },
  {
   "cell_type": "code",
   "execution_count": 4,
   "metadata": {},
   "outputs": [
    {
     "name": "stdout",
     "output_type": "stream",
     "text": [
      "bisection value: 1.414213562373095, newton value: 1.4142135623730951, real value 1.4142135623730951\n",
      "Time to complete newton method: 66136 ns, time to complete bisection: 121587 ns\n"
     ]
    }
   ],
   "source": [
    "def f_test(x: float) -> float:\n",
    "    return pow(x, 2) - 2\n",
    "\n",
    "def df_test(x: float) -> float:\n",
    "    return 2 * x\n",
    "\n",
    "epsilon = 1e-15 \n",
    "\n",
    "newton_initial_guess = 3\n",
    "\n",
    "newton_start = time.time_ns()\n",
    "newton_val = newtons_method(newton_initial_guess, epsilon, f_test, df_test)\n",
    "newton_end = time.time_ns()\n",
    "\n",
    "bisection_lower_guess = -1\n",
    "bisection_upper_guess = 10\n",
    "\n",
    "bisection_start = time.time_ns()\n",
    "bisection_val = bisection(bisection_lower_guess, bisection_upper_guess, epsilon, f_test)\n",
    "bisection_end = time.time_ns()\n",
    "\n",
    "print(f\"bisection value: {bisection_val}, newton value: {newton_val}, real value {pow(2, 1/2)}\")\n",
    "print(f\"Time to complete newton method: {newton_end - newton_start} ns, time to complete bisection: {bisection_end - bisection_start} ns\")"
   ]
  },
  {
   "cell_type": "markdown",
   "metadata": {},
   "source": [
    "We can see that newtons method is nearly twice as fast compared to bisection method for this trivial example"
   ]
  },
  {
   "cell_type": "markdown",
   "metadata": {},
   "source": [
    "## Secant's Method\n",
    "\n",
    "### Criteria\n",
    "\n",
    "1. Needs two starting values\n",
    "2. function must be continuous\n",
    "\n",
    "### Description\n",
    "\n",
    "Secants method is exactly like netwon's method except it instead of using a pre define derivative of the function it will approximate the derivative. This means unlike newton's method secant method can work on functions with hard to compute/unknown derivatives. The technique is explained in detail below\n",
    "\n",
    "1. Choose two initial values X1 and X0\n",
    "2. Calculate a approximate direvitave of the function using these two points by using the equation\n",
    "\n",
    "df = f(X1) - f(X0) / (X1 - X0)\n",
    "\n",
    "3. use this in newton's method as the derivative\n",
    "\n",
    "X2 = X1 - F(X1) / df\n",
    "\n",
    "4. Update X1 and X0 and repeat until the difference is less than epsilon\n",
    "\n",
    "### Example\n",
    "\n",
    "in the bottom exapmple we will use secant's method to compute the cube root of 3"
   ]
  },
  {
   "cell_type": "code",
   "execution_count": 7,
   "metadata": {},
   "outputs": [
    {
     "name": "stdout",
     "output_type": "stream",
     "text": [
      "2.4662120743304703\n"
     ]
    }
   ],
   "source": [
    "def df_approx(x1: float, x2: float, f) -> float:\n",
    "    return (f(x2) - f(x1))/(x2 - x1)\n",
    "\n",
    "def secants_method(x1: float, x2: float, epsilon: float, f) -> float:\n",
    "    x3 = 0\n",
    "\n",
    "    while (abs(x2 - x1) > epsilon):\n",
    "        x3 = x2 - f(x2) / df_approx(x1, x2, f)\n",
    "        x1 = x2\n",
    "        x2 = x3\n",
    "    \n",
    "    return x3\n",
    "\n",
    "c = secants_method(1, 2, 1e-15, f)\n",
    "print(c)"
   ]
  }
 ],
 "metadata": {
  "kernelspec": {
   "display_name": "Python 3",
   "language": "python",
   "name": "python3"
  },
  "language_info": {
   "codemirror_mode": {
    "name": "ipython",
    "version": 3
   },
   "file_extension": ".py",
   "mimetype": "text/x-python",
   "name": "python",
   "nbconvert_exporter": "python",
   "pygments_lexer": "ipython3",
   "version": "3.10.12"
  }
 },
 "nbformat": 4,
 "nbformat_minor": 2
}
