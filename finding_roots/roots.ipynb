{
 "cells": [
  {
   "cell_type": "code",
   "execution_count": 1,
   "metadata": {},
   "outputs": [],
   "source": [
    "import math"
   ]
  },
  {
   "cell_type": "markdown",
   "metadata": {},
   "source": [
    "## 1. Bisection Method\n",
    "\n",
    "### Criteria:\n",
    "\n",
    "1. Function must be continuous\n",
    "2. Function must cross the x-axis cannot simply touch it\n",
    "3. initial guesses a and b must enclose the root\n",
    "\n",
    "### Description:\n",
    "\n",
    "Newton's method is a technique used to find the roots of a function, f(x) = 0. This method is iterative, takes the longest of the three methods to converge, and requires a intial guess of two values that enclose the zero, but has the benefit of always converging to the right solution. The technique goes as follows:\n",
    "\n",
    "1. Choose two values [a, b] with opposing signs\n",
    "2. Calculate the midpoint, c, of a,b using the equation below\n",
    "     c = (a + b) / 2\n",
    "3. if f(a) and f(c) are the same sign then choose [b, c] as your next values, otherwise if f(a) and f(c) different signs then choose [a, c] as your next guess\n",
    "4. Repeat this loop until f(c) = 0\n",
    "\n",
    "Now let us use this to approximate the square root of 2"
   ]
  },
  {
   "cell_type": "code",
   "execution_count": 44,
   "metadata": {},
   "outputs": [
    {
     "name": "stdout",
     "output_type": "stream",
     "text": [
      "actual value of cube root of 3: 2.46621207433047, calculated value: 2.4662120743304703\n"
     ]
    }
   ],
   "source": [
    "# x^2 - 2 has a zero at sqrt(2)\n",
    "def f(x: float) -> float:\n",
    "    return pow(x, 3) - 15\n",
    "\n",
    "a, b = -10, 10\n",
    "\n",
    "def bisection(a: float, b: float, epsilon: float) -> float:\n",
    "    if f(a) * f(b) >= 0:\n",
    "        print(\"failed to choose correct closing params\")\n",
    "        return float(\"inf\")\n",
    "\n",
    "    c = a\n",
    "    while((b - a) >= epsilon):\n",
    "        c = (a + b)/2\n",
    "\n",
    "        if f(c) == 0:\n",
    "            return c\n",
    "            \n",
    "        elif (f(c) * f(a) < 0):\n",
    "            b = c\n",
    "        else:\n",
    "            a = c\n",
    "    \n",
    "    return c\n",
    "\n",
    "c = bisection(a, b, 1e-15)\n",
    "print(f\"actual value of cube root of 3: {pow(15, 1/3)}, calculated value: {c}\")"
   ]
  },
  {
   "cell_type": "code",
   "execution_count": null,
   "metadata": {},
   "outputs": [],
   "source": []
  }
 ],
 "metadata": {
  "kernelspec": {
   "display_name": "Python 3",
   "language": "python",
   "name": "python3"
  },
  "language_info": {
   "codemirror_mode": {
    "name": "ipython",
    "version": 3
   },
   "file_extension": ".py",
   "mimetype": "text/x-python",
   "name": "python",
   "nbconvert_exporter": "python",
   "pygments_lexer": "ipython3",
   "version": "3.10.12"
  }
 },
 "nbformat": 4,
 "nbformat_minor": 2
}
